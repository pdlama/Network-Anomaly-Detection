{
  "nbformat": 4,
  "nbformat_minor": 0,
  "metadata": {
    "kernelspec": {
      "display_name": "Python 3",
      "language": "python",
      "name": "python3"
    },
    "language_info": {
      "codemirror_mode": {
        "name": "ipython",
        "version": 3
      },
      "file_extension": ".py",
      "mimetype": "text/x-python",
      "name": "python",
      "nbconvert_exporter": "python",
      "pygments_lexer": "ipython3",
      "version": "3.7.1"
    },
    "colab": {
      "name": "anomaly_detection-clustering.ipynb",
      "provenance": [],
      "collapsed_sections": [
        "E7j0ddZf9zrn",
        "VeimR9PC9zr9",
        "PiNiJ5UB9zsH",
        "v8HzAOK19zsN",
        "D-f158W99zsR",
        "N8WiEX_R9zsU",
        "1FIj9dSb9zsV",
        "x4kJaL2w9zsd",
        "cmFoqJiC9zst",
        "OB85rWsZ9zs0",
        "UnM5E7HS9zs1",
        "wvlPJ7FJ9zs4",
        "U02F7nNo9zs8",
        "1sRcXu2_9zs9",
        "370wlEdg9ztE",
        "Yd30JO9v9ztK",
        "NpMYbBu-9ztR",
        "VkI_bZ7y9ztX",
        "AxqY2MlI9zte",
        "mupgCbM69ztk",
        "ZVh4Hi4G9ztr"
      ],
      "toc_visible": true
    }
  },
  "cells": [
    {
      "cell_type": "markdown",
      "metadata": {
        "id": "QIu_IEXX9zq2"
      },
      "source": [
        "# Intrusion Detection based Anomaly method using Clustering algorithm\n",
        "- K-Means"
      ]
    },
    {
      "cell_type": "markdown",
      "metadata": {
        "id": "zTzOBF339zq4"
      },
      "source": [
        "### Importing Packages"
      ]
    },
    {
      "cell_type": "code",
      "metadata": {
        "id": "JDIugXy695oR",
        "outputId": "e3e15800-b31b-4062-9845-ad4db41a5006",
        "colab": {
          "base_uri": "https://localhost:8080/",
          "height": 71
        }
      },
      "source": [
        "!pip install pyspark"
      ],
      "execution_count": null,
      "outputs": [
        {
          "output_type": "stream",
          "text": [
            "Requirement already satisfied: pyspark in /usr/local/lib/python3.6/dist-packages (3.0.1)\n",
            "Requirement already satisfied: py4j==0.10.9 in /usr/local/lib/python3.6/dist-packages (from pyspark) (0.10.9)\n"
          ],
          "name": "stdout"
        }
      ]
    },
    {
      "cell_type": "code",
      "metadata": {
        "id": "Xj0g6pV59zrB"
      },
      "source": [
        "import pyspark.sql.functions as funcs\n",
        "from pyspark.ml.linalg import Vectors, VectorUDT\n",
        "from pyspark.sql.types import *\n",
        "from pyspark.sql import SparkSession"
      ],
      "execution_count": null,
      "outputs": []
    },
    {
      "cell_type": "code",
      "metadata": {
        "id": "PpQny8Bg9zrF"
      },
      "source": [
        "spark = SparkSession.builder\\\n",
        ".master(\"local[4]\")\\\n",
        ".appName(\"ReadFromCsv\")\\\n",
        ".config(\"spark.driver.memory\",\"3g\")\\\n",
        ".config(\"spark.executor.memory\", \"4g\")\\\n",
        ".getOrCreate()"
      ],
      "execution_count": null,
      "outputs": []
    },
    {
      "cell_type": "code",
      "metadata": {
        "id": "HcGQvoye9zrI",
        "outputId": "5001f03a-f7a8-4f0e-edd3-5b8d4eb6cd65",
        "colab": {
          "base_uri": "https://localhost:8080/",
          "height": 52
        }
      },
      "source": [
        "'''logger = spark.sparkContext._jvm.org.apache.log4j\n",
        "logger.LogManager.getLogger(\"org\"). setLevel(logger.Level.ERROR)\n",
        "logger.LogManager.getLogger(\"akka\").setLevel(logger.Level.ERROR)'''"
      ],
      "execution_count": null,
      "outputs": [
        {
          "output_type": "execute_result",
          "data": {
            "application/vnd.google.colaboratory.intrinsic+json": {
              "type": "string"
            },
            "text/plain": [
              "'logger = spark.sparkContext._jvm.org.apache.log4j\\nlogger.LogManager.getLogger(\"org\"). setLevel(logger.Level.ERROR)\\nlogger.LogManager.getLogger(\"akka\").setLevel(logger.Level.ERROR)'"
            ]
          },
          "metadata": {
            "tags": []
          },
          "execution_count": 167
        }
      ]
    },
    {
      "cell_type": "markdown",
      "metadata": {
        "id": "8kjtSKAQ9zrR"
      },
      "source": [
        "## Predict on Stream"
      ]
    },
    {
      "cell_type": "markdown",
      "metadata": {
        "id": "dBAQl0Jb9zrS"
      },
      "source": [
        "# 1. Load Dataset"
      ]
    },
    {
      "cell_type": "code",
      "metadata": {
        "id": "vXkAVQpe9zrT"
      },
      "source": [
        "iris = spark.read \\\n",
        ".format(\"csv\")\\\n",
        ".option(\"header\", True)\\\n",
        ".option(\"sep\", \",\")\\\n",
        ".option(\"inferSchema\", \"True\")\\\n",
        ".load(\"UNSW_NB15.csv\")"
      ],
      "execution_count": null,
      "outputs": []
    },
    {
      "cell_type": "code",
      "metadata": {
        "id": "ONt55u8gVQKs",
        "outputId": "8518315c-8e29-4f53-a25b-f323d2c20ef8",
        "colab": {
          "base_uri": "https://localhost:8080/",
          "height": 54
        }
      },
      "source": [
        "iris.head()"
      ],
      "execution_count": null,
      "outputs": [
        {
          "output_type": "execute_result",
          "data": {
            "text/plain": [
              "Row(id=1, dur=1.1e-05, proto='udp', service='-', state='INT', spkts=2, dpkts=0, sbytes=496, dbytes=0, rate=90909.0902, sttl=254, dttl=0, sload=180363632.0, dload=0.0, sloss=0, dloss=0, sinpkt=0.011, dinpkt=0.0, sjit=0.0, djit=0.0, swin=0, stcpb=0, dtcpb=0, dwin=0, tcprtt=0.0, synack=0.0, ackdat=0.0, smean=248, dmean=0, trans_depth=0, response_body_len=0, ct_srv_src=2, ct_state_ttl=2, ct_dst_ltm=1, ct_src_dport_ltm=1, ct_dst_sport_ltm=1, ct_dst_src_ltm=2, is_ftp_login=0, ct_ftp_cmd=0, ct_flw_http_mthd=0, ct_src_ltm=1, ct_srv_dst=2, is_sm_ips_ports=0, attack_cat='Normal', label=0)"
            ]
          },
          "metadata": {
            "tags": []
          },
          "execution_count": 169
        }
      ]
    },
    {
      "cell_type": "code",
      "metadata": {
        "scrolled": true,
        "id": "R_6tYVSP9zrZ",
        "outputId": "eed0c6b0-167a-4c32-8590-72f436204dfe",
        "colab": {
          "base_uri": "https://localhost:8080/",
          "height": 816
        }
      },
      "source": [
        "iris.printSchema()"
      ],
      "execution_count": null,
      "outputs": [
        {
          "output_type": "stream",
          "text": [
            "root\n",
            " |-- id: integer (nullable = true)\n",
            " |-- dur: double (nullable = true)\n",
            " |-- proto: string (nullable = true)\n",
            " |-- service: string (nullable = true)\n",
            " |-- state: string (nullable = true)\n",
            " |-- spkts: integer (nullable = true)\n",
            " |-- dpkts: integer (nullable = true)\n",
            " |-- sbytes: integer (nullable = true)\n",
            " |-- dbytes: integer (nullable = true)\n",
            " |-- rate: double (nullable = true)\n",
            " |-- sttl: integer (nullable = true)\n",
            " |-- dttl: integer (nullable = true)\n",
            " |-- sload: double (nullable = true)\n",
            " |-- dload: double (nullable = true)\n",
            " |-- sloss: integer (nullable = true)\n",
            " |-- dloss: integer (nullable = true)\n",
            " |-- sinpkt: double (nullable = true)\n",
            " |-- dinpkt: double (nullable = true)\n",
            " |-- sjit: double (nullable = true)\n",
            " |-- djit: double (nullable = true)\n",
            " |-- swin: integer (nullable = true)\n",
            " |-- stcpb: long (nullable = true)\n",
            " |-- dtcpb: long (nullable = true)\n",
            " |-- dwin: integer (nullable = true)\n",
            " |-- tcprtt: double (nullable = true)\n",
            " |-- synack: double (nullable = true)\n",
            " |-- ackdat: double (nullable = true)\n",
            " |-- smean: integer (nullable = true)\n",
            " |-- dmean: integer (nullable = true)\n",
            " |-- trans_depth: integer (nullable = true)\n",
            " |-- response_body_len: integer (nullable = true)\n",
            " |-- ct_srv_src: integer (nullable = true)\n",
            " |-- ct_state_ttl: integer (nullable = true)\n",
            " |-- ct_dst_ltm: integer (nullable = true)\n",
            " |-- ct_src_dport_ltm: integer (nullable = true)\n",
            " |-- ct_dst_sport_ltm: integer (nullable = true)\n",
            " |-- ct_dst_src_ltm: integer (nullable = true)\n",
            " |-- is_ftp_login: integer (nullable = true)\n",
            " |-- ct_ftp_cmd: integer (nullable = true)\n",
            " |-- ct_flw_http_mthd: integer (nullable = true)\n",
            " |-- ct_src_ltm: integer (nullable = true)\n",
            " |-- ct_srv_dst: integer (nullable = true)\n",
            " |-- is_sm_ips_ports: integer (nullable = true)\n",
            " |-- attack_cat: string (nullable = true)\n",
            " |-- label: integer (nullable = true)\n",
            "\n"
          ],
          "name": "stdout"
        }
      ]
    },
    {
      "cell_type": "code",
      "metadata": {
        "id": "q2aoc0Gl81RK"
      },
      "source": [
        "iris=iris.drop('proto','service','state','label')"
      ],
      "execution_count": null,
      "outputs": []
    },
    {
      "cell_type": "markdown",
      "metadata": {
        "id": "fOmpK2ty9zrg"
      },
      "source": [
        "# 2. Data Preparation for Training"
      ]
    },
    {
      "cell_type": "code",
      "metadata": {
        "id": "YiKyyuyu9zrh"
      },
      "source": [
        "from pyspark.ml.feature import VectorAssembler, StringIndexer\n",
        "from pyspark.ml import Pipeline"
      ],
      "execution_count": null,
      "outputs": []
    },
    {
      "cell_type": "code",
      "metadata": {
        "id": "7WEvHcGq9zrk"
      },
      "source": [
        "#train, test = data.randomSplit([0.70, 0.30])"
      ],
      "execution_count": null,
      "outputs": []
    },
    {
      "cell_type": "markdown",
      "metadata": {
        "id": "E7j0ddZf9zrn"
      },
      "source": [
        "### 2.1 Data Vectorization and String Indexing"
      ]
    },
    {
      "cell_type": "code",
      "metadata": {
        "id": "tA9g8ghq9zro"
      },
      "source": [
        "label_indexer = StringIndexer(inputCol = \"attack_cat\", outputCol = \"label\")\n",
        "\n",
        "label_indexer_model = label_indexer.fit(iris)\n",
        "new_df = label_indexer_model.transform(iris)"
      ],
      "execution_count": null,
      "outputs": []
    },
    {
      "cell_type": "code",
      "metadata": {
        "id": "F2tV4aEA9zrs"
      },
      "source": [
        "feature_cols = iris.columns[:-1]\n"
      ],
      "execution_count": null,
      "outputs": []
    },
    {
      "cell_type": "code",
      "metadata": {
        "scrolled": true,
        "id": "BF4YSSMz9zry"
      },
      "source": [
        "assembler = VectorAssembler(inputCols = feature_cols, outputCol = 'vec_features')\n",
        "assembler_df = assembler.transform(new_df)"
      ],
      "execution_count": null,
      "outputs": []
    },
    {
      "cell_type": "code",
      "metadata": {
        "id": "oQtuf6g89zr4"
      },
      "source": [
        "normal = assembler_df.where(funcs.col(\"attack_cat\") == \"Normal\")"
      ],
      "execution_count": null,
      "outputs": []
    },
    {
      "cell_type": "markdown",
      "metadata": {
        "id": "VeimR9PC9zr9"
      },
      "source": [
        "### 2.2 Feature Reduction using PCA (Principal Component Analysis)"
      ]
    },
    {
      "cell_type": "code",
      "metadata": {
        "id": "9ifEUSZa9zr-"
      },
      "source": [
        "from pyspark.ml.feature import PCA\n",
        "\n",
        "pca = PCA(k=9, inputCol=\"vec_features\", outputCol=\"features\")\n",
        "pcaModel = pca.fit(normal)\n",
        "normal_reduction_df = pcaModel.transform(normal)"
      ],
      "execution_count": null,
      "outputs": []
    },
    {
      "cell_type": "code",
      "metadata": {
        "id": "RDQRUrPY9zsD",
        "outputId": "87728893-15d5-4089-f1c3-b55669e20747",
        "colab": {
          "base_uri": "https://localhost:8080/",
          "height": 315
        }
      },
      "source": [
        "normal_reduction_df.toPandas().head(3)"
      ],
      "execution_count": null,
      "outputs": [
        {
          "output_type": "execute_result",
          "data": {
            "text/html": [
              "<div>\n",
              "<style scoped>\n",
              "    .dataframe tbody tr th:only-of-type {\n",
              "        vertical-align: middle;\n",
              "    }\n",
              "\n",
              "    .dataframe tbody tr th {\n",
              "        vertical-align: top;\n",
              "    }\n",
              "\n",
              "    .dataframe thead th {\n",
              "        text-align: right;\n",
              "    }\n",
              "</style>\n",
              "<table border=\"1\" class=\"dataframe\">\n",
              "  <thead>\n",
              "    <tr style=\"text-align: right;\">\n",
              "      <th></th>\n",
              "      <th>id</th>\n",
              "      <th>dur</th>\n",
              "      <th>spkts</th>\n",
              "      <th>dpkts</th>\n",
              "      <th>sbytes</th>\n",
              "      <th>dbytes</th>\n",
              "      <th>rate</th>\n",
              "      <th>sttl</th>\n",
              "      <th>dttl</th>\n",
              "      <th>sload</th>\n",
              "      <th>dload</th>\n",
              "      <th>sloss</th>\n",
              "      <th>dloss</th>\n",
              "      <th>sinpkt</th>\n",
              "      <th>dinpkt</th>\n",
              "      <th>sjit</th>\n",
              "      <th>djit</th>\n",
              "      <th>swin</th>\n",
              "      <th>stcpb</th>\n",
              "      <th>dtcpb</th>\n",
              "      <th>dwin</th>\n",
              "      <th>tcprtt</th>\n",
              "      <th>synack</th>\n",
              "      <th>ackdat</th>\n",
              "      <th>smean</th>\n",
              "      <th>dmean</th>\n",
              "      <th>trans_depth</th>\n",
              "      <th>response_body_len</th>\n",
              "      <th>ct_srv_src</th>\n",
              "      <th>ct_state_ttl</th>\n",
              "      <th>ct_dst_ltm</th>\n",
              "      <th>ct_src_dport_ltm</th>\n",
              "      <th>ct_dst_sport_ltm</th>\n",
              "      <th>ct_dst_src_ltm</th>\n",
              "      <th>is_ftp_login</th>\n",
              "      <th>ct_ftp_cmd</th>\n",
              "      <th>ct_flw_http_mthd</th>\n",
              "      <th>ct_src_ltm</th>\n",
              "      <th>ct_srv_dst</th>\n",
              "      <th>is_sm_ips_ports</th>\n",
              "      <th>attack_cat</th>\n",
              "      <th>label</th>\n",
              "      <th>vec_features</th>\n",
              "      <th>features</th>\n",
              "    </tr>\n",
              "  </thead>\n",
              "  <tbody>\n",
              "    <tr>\n",
              "      <th>0</th>\n",
              "      <td>1</td>\n",
              "      <td>0.000011</td>\n",
              "      <td>2</td>\n",
              "      <td>0</td>\n",
              "      <td>496</td>\n",
              "      <td>0</td>\n",
              "      <td>90909.0902</td>\n",
              "      <td>254</td>\n",
              "      <td>0</td>\n",
              "      <td>180363632.0</td>\n",
              "      <td>0.0</td>\n",
              "      <td>0</td>\n",
              "      <td>0</td>\n",
              "      <td>0.011</td>\n",
              "      <td>0.0</td>\n",
              "      <td>0.0</td>\n",
              "      <td>0.0</td>\n",
              "      <td>0</td>\n",
              "      <td>0</td>\n",
              "      <td>0</td>\n",
              "      <td>0</td>\n",
              "      <td>0.0</td>\n",
              "      <td>0.0</td>\n",
              "      <td>0.0</td>\n",
              "      <td>248</td>\n",
              "      <td>0</td>\n",
              "      <td>0</td>\n",
              "      <td>0</td>\n",
              "      <td>2</td>\n",
              "      <td>2</td>\n",
              "      <td>1</td>\n",
              "      <td>1</td>\n",
              "      <td>1</td>\n",
              "      <td>2</td>\n",
              "      <td>0</td>\n",
              "      <td>0</td>\n",
              "      <td>0</td>\n",
              "      <td>1</td>\n",
              "      <td>2</td>\n",
              "      <td>0</td>\n",
              "      <td>Normal</td>\n",
              "      <td>0.0</td>\n",
              "      <td>(1.0, 1.1e-05, 2.0, 0.0, 496.0, 0.0, 90909.090...</td>\n",
              "      <td>[4959946.8794864, -17456.289661774674, 1802953...</td>\n",
              "    </tr>\n",
              "    <tr>\n",
              "      <th>1</th>\n",
              "      <td>2</td>\n",
              "      <td>0.000008</td>\n",
              "      <td>2</td>\n",
              "      <td>0</td>\n",
              "      <td>1762</td>\n",
              "      <td>0</td>\n",
              "      <td>125000.0003</td>\n",
              "      <td>254</td>\n",
              "      <td>0</td>\n",
              "      <td>881000000.0</td>\n",
              "      <td>0.0</td>\n",
              "      <td>0</td>\n",
              "      <td>0</td>\n",
              "      <td>0.008</td>\n",
              "      <td>0.0</td>\n",
              "      <td>0.0</td>\n",
              "      <td>0.0</td>\n",
              "      <td>0</td>\n",
              "      <td>0</td>\n",
              "      <td>0</td>\n",
              "      <td>0</td>\n",
              "      <td>0.0</td>\n",
              "      <td>0.0</td>\n",
              "      <td>0.0</td>\n",
              "      <td>881</td>\n",
              "      <td>0</td>\n",
              "      <td>0</td>\n",
              "      <td>0</td>\n",
              "      <td>2</td>\n",
              "      <td>2</td>\n",
              "      <td>1</td>\n",
              "      <td>1</td>\n",
              "      <td>1</td>\n",
              "      <td>2</td>\n",
              "      <td>0</td>\n",
              "      <td>0</td>\n",
              "      <td>0</td>\n",
              "      <td>1</td>\n",
              "      <td>2</td>\n",
              "      <td>0</td>\n",
              "      <td>Normal</td>\n",
              "      <td>0.0</td>\n",
              "      <td>(2.0, 8e-06, 2.0, 0.0, 1762.0, 0.0, 125000.000...</td>\n",
              "      <td>[24227235.07051033, -85266.57379073313, 880666...</td>\n",
              "    </tr>\n",
              "    <tr>\n",
              "      <th>2</th>\n",
              "      <td>3</td>\n",
              "      <td>0.000005</td>\n",
              "      <td>2</td>\n",
              "      <td>0</td>\n",
              "      <td>1068</td>\n",
              "      <td>0</td>\n",
              "      <td>200000.0051</td>\n",
              "      <td>254</td>\n",
              "      <td>0</td>\n",
              "      <td>854400000.0</td>\n",
              "      <td>0.0</td>\n",
              "      <td>0</td>\n",
              "      <td>0</td>\n",
              "      <td>0.005</td>\n",
              "      <td>0.0</td>\n",
              "      <td>0.0</td>\n",
              "      <td>0.0</td>\n",
              "      <td>0</td>\n",
              "      <td>0</td>\n",
              "      <td>0</td>\n",
              "      <td>0</td>\n",
              "      <td>0.0</td>\n",
              "      <td>0.0</td>\n",
              "      <td>0.0</td>\n",
              "      <td>534</td>\n",
              "      <td>0</td>\n",
              "      <td>0</td>\n",
              "      <td>0</td>\n",
              "      <td>3</td>\n",
              "      <td>2</td>\n",
              "      <td>1</td>\n",
              "      <td>1</td>\n",
              "      <td>1</td>\n",
              "      <td>3</td>\n",
              "      <td>0</td>\n",
              "      <td>0</td>\n",
              "      <td>0</td>\n",
              "      <td>1</td>\n",
              "      <td>3</td>\n",
              "      <td>0</td>\n",
              "      <td>Normal</td>\n",
              "      <td>0.0</td>\n",
              "      <td>(3.0, 5e-06, 2.0, 0.0, 1068.0, 0.0, 200000.005...</td>\n",
              "      <td>[23495744.56271649, -82692.12633856495, 854076...</td>\n",
              "    </tr>\n",
              "  </tbody>\n",
              "</table>\n",
              "</div>"
            ],
            "text/plain": [
              "   id  ...                                           features\n",
              "0   1  ...  [4959946.8794864, -17456.289661774674, 1802953...\n",
              "1   2  ...  [24227235.07051033, -85266.57379073313, 880666...\n",
              "2   3  ...  [23495744.56271649, -82692.12633856495, 854076...\n",
              "\n",
              "[3 rows x 44 columns]"
            ]
          },
          "metadata": {
            "tags": []
          },
          "execution_count": 179
        }
      ]
    },
    {
      "cell_type": "markdown",
      "metadata": {
        "id": "Pgu53XT59zsG"
      },
      "source": [
        "# 3. Train Model (K-Means Clustering)"
      ]
    },
    {
      "cell_type": "markdown",
      "metadata": {
        "id": "PiNiJ5UB9zsH"
      },
      "source": [
        "### 3.1 Training of Data"
      ]
    },
    {
      "cell_type": "code",
      "metadata": {
        "id": "aboDfyel9zsH"
      },
      "source": [
        "from pyspark.ml.clustering import KMeans\n",
        "\n",
        "k_num = 2\n",
        "kmeans = KMeans(featuresCol='features',k=k_num, maxIter=100)\n",
        "model = kmeans.fit(normal_reduction_df)"
      ],
      "execution_count": null,
      "outputs": []
    },
    {
      "cell_type": "markdown",
      "metadata": {
        "id": "v8HzAOK19zsN"
      },
      "source": [
        "### 3.1.1 Prediction Training Dataset"
      ]
    },
    {
      "cell_type": "code",
      "metadata": {
        "scrolled": true,
        "id": "1YMrQoPI9zsO",
        "outputId": "735f5f63-6ffd-4d08-d60c-ae65c1faae28",
        "colab": {
          "base_uri": "https://localhost:8080/",
          "height": 204
        }
      },
      "source": [
        "pca = PCA(k=9, inputCol=\"vec_features\", outputCol=\"features\")\n",
        "pcaModel = pca.fit(assembler_df)\n",
        "test_reduction_df = pcaModel.transform(assembler_df)\n",
        "\n",
        "predictions = model.transform(test_reduction_df)\n",
        "predictions = predictions.select(\"features\",\"label\",\"prediction\")\n",
        "predictions.toPandas().head()"
      ],
      "execution_count": null,
      "outputs": [
        {
          "output_type": "execute_result",
          "data": {
            "text/html": [
              "<div>\n",
              "<style scoped>\n",
              "    .dataframe tbody tr th:only-of-type {\n",
              "        vertical-align: middle;\n",
              "    }\n",
              "\n",
              "    .dataframe tbody tr th {\n",
              "        vertical-align: top;\n",
              "    }\n",
              "\n",
              "    .dataframe thead th {\n",
              "        text-align: right;\n",
              "    }\n",
              "</style>\n",
              "<table border=\"1\" class=\"dataframe\">\n",
              "  <thead>\n",
              "    <tr style=\"text-align: right;\">\n",
              "      <th></th>\n",
              "      <th>features</th>\n",
              "      <th>label</th>\n",
              "      <th>prediction</th>\n",
              "    </tr>\n",
              "  </thead>\n",
              "  <tbody>\n",
              "    <tr>\n",
              "      <th>0</th>\n",
              "      <td>[5708712.889189165, 1237.7888575087018, 180273...</td>\n",
              "      <td>0.0</td>\n",
              "      <td>1</td>\n",
              "    </tr>\n",
              "    <tr>\n",
              "      <th>1</th>\n",
              "      <td>[27884633.38072515, 6046.07048660398, 88055849...</td>\n",
              "      <td>0.0</td>\n",
              "      <td>1</td>\n",
              "    </tr>\n",
              "    <tr>\n",
              "      <th>2</th>\n",
              "      <td>[27042716.843218617, 5863.523577897636, 853971...</td>\n",
              "      <td>0.0</td>\n",
              "      <td>1</td>\n",
              "    </tr>\n",
              "    <tr>\n",
              "      <th>3</th>\n",
              "      <td>[18990672.98883812, 4117.643203814579, 5996993...</td>\n",
              "      <td>0.0</td>\n",
              "      <td>1</td>\n",
              "    </tr>\n",
              "    <tr>\n",
              "      <th>4</th>\n",
              "      <td>[26916108.39680101, 5836.070002120078, 8499738...</td>\n",
              "      <td>0.0</td>\n",
              "      <td>1</td>\n",
              "    </tr>\n",
              "  </tbody>\n",
              "</table>\n",
              "</div>"
            ],
            "text/plain": [
              "                                            features  label  prediction\n",
              "0  [5708712.889189165, 1237.7888575087018, 180273...    0.0           1\n",
              "1  [27884633.38072515, 6046.07048660398, 88055849...    0.0           1\n",
              "2  [27042716.843218617, 5863.523577897636, 853971...    0.0           1\n",
              "3  [18990672.98883812, 4117.643203814579, 5996993...    0.0           1\n",
              "4  [26916108.39680101, 5836.070002120078, 8499738...    0.0           1"
            ]
          },
          "metadata": {
            "tags": []
          },
          "execution_count": 181
        }
      ]
    },
    {
      "cell_type": "code",
      "metadata": {
        "id": "O1BT3x4lGrvu",
        "outputId": "b6a05473-d94d-4e20-ce9b-ee152408e8a1",
        "colab": {
          "base_uri": "https://localhost:8080/",
          "height": 122
        }
      },
      "source": [
        "test_reduction_df.head(5)"
      ],
      "execution_count": null,
      "outputs": [
        {
          "output_type": "execute_result",
          "data": {
            "text/plain": [
              "[Row(id=1, dur=1.1e-05, spkts=2, dpkts=0, sbytes=496, dbytes=0, rate=90909.0902, sttl=254, dttl=0, sload=180363632.0, dload=0.0, sloss=0, dloss=0, sinpkt=0.011, dinpkt=0.0, sjit=0.0, djit=0.0, swin=0, stcpb=0, dtcpb=0, dwin=0, tcprtt=0.0, synack=0.0, ackdat=0.0, smean=248, dmean=0, trans_depth=0, response_body_len=0, ct_srv_src=2, ct_state_ttl=2, ct_dst_ltm=1, ct_src_dport_ltm=1, ct_dst_sport_ltm=1, ct_dst_src_ltm=2, is_ftp_login=0, ct_ftp_cmd=0, ct_flw_http_mthd=0, ct_src_ltm=1, ct_srv_dst=2, is_sm_ips_ports=0, attack_cat='Normal', label=0.0, vec_features=SparseVector(40, {0: 1.0, 1: 0.0, 2: 2.0, 4: 496.0, 6: 90909.0902, 7: 254.0, 9: 180363632.0, 13: 0.011, 24: 248.0, 28: 2.0, 29: 2.0, 30: 1.0, 31: 1.0, 32: 1.0, 33: 2.0, 37: 1.0, 38: 2.0}), features=DenseVector([5708712.8892, 1237.7889, 180273267.6551, -83476.0189, -1224.5606, 694.9033, 24605.3435, 1062.7755, 86.8435])),\n",
              " Row(id=2, dur=8e-06, spkts=2, dpkts=0, sbytes=1762, dbytes=0, rate=125000.0003, sttl=254, dttl=0, sload=881000000.0, dload=0.0, sloss=0, dloss=0, sinpkt=0.008, dinpkt=0.0, sjit=0.0, djit=0.0, swin=0, stcpb=0, dtcpb=0, dwin=0, tcprtt=0.0, synack=0.0, ackdat=0.0, smean=881, dmean=0, trans_depth=0, response_body_len=0, ct_srv_src=2, ct_state_ttl=2, ct_dst_ltm=1, ct_src_dport_ltm=1, ct_dst_sport_ltm=1, ct_dst_src_ltm=2, is_ftp_login=0, ct_ftp_cmd=0, ct_flw_http_mthd=0, ct_src_ltm=1, ct_srv_dst=2, is_sm_ips_ports=0, attack_cat='Normal', label=0.0, vec_features=SparseVector(40, {0: 2.0, 1: 0.0, 2: 2.0, 4: 1762.0, 6: 125000.0003, 7: 254.0, 9: 881000000.0, 13: 0.008, 24: 881.0, 28: 2.0, 29: 2.0, 30: 1.0, 31: 1.0, 32: 1.0, 33: 2.0, 37: 1.0, 38: 2.0}), features=DenseVector([27884633.3807, 6046.0705, 880558491.1358, -408367.2122, -9005.8075, 8940.2093, -198712.4486, 1251.3801, 301.0957])),\n",
              " Row(id=3, dur=5e-06, spkts=2, dpkts=0, sbytes=1068, dbytes=0, rate=200000.0051, sttl=254, dttl=0, sload=854400000.0, dload=0.0, sloss=0, dloss=0, sinpkt=0.005, dinpkt=0.0, sjit=0.0, djit=0.0, swin=0, stcpb=0, dtcpb=0, dwin=0, tcprtt=0.0, synack=0.0, ackdat=0.0, smean=534, dmean=0, trans_depth=0, response_body_len=0, ct_srv_src=3, ct_state_ttl=2, ct_dst_ltm=1, ct_src_dport_ltm=1, ct_dst_sport_ltm=1, ct_dst_src_ltm=3, is_ftp_login=0, ct_ftp_cmd=0, ct_flw_http_mthd=0, ct_src_ltm=1, ct_srv_dst=3, is_sm_ips_ports=0, attack_cat='Normal', label=0.0, vec_features=SparseVector(40, {0: 3.0, 1: 0.0, 2: 2.0, 4: 1068.0, 6: 200000.0051, 7: 254.0, 9: 854400000.0, 13: 0.005, 24: 534.0, 28: 3.0, 29: 2.0, 30: 1.0, 31: 1.0, 32: 1.0, 33: 3.0, 37: 1.0, 38: 3.0}), features=DenseVector([27042716.8432, 5863.5236, 853971850.5585, -395884.5951, -7183.7028, 7329.5348, -113985.0617, 2184.3039, 321.9166])),\n",
              " Row(id=4, dur=6e-06, spkts=2, dpkts=0, sbytes=900, dbytes=0, rate=166666.6608, sttl=254, dttl=0, sload=600000000.0, dload=0.0, sloss=0, dloss=0, sinpkt=0.006, dinpkt=0.0, sjit=0.0, djit=0.0, swin=0, stcpb=0, dtcpb=0, dwin=0, tcprtt=0.0, synack=0.0, ackdat=0.0, smean=450, dmean=0, trans_depth=0, response_body_len=0, ct_srv_src=3, ct_state_ttl=2, ct_dst_ltm=2, ct_src_dport_ltm=2, ct_dst_sport_ltm=1, ct_dst_src_ltm=3, is_ftp_login=0, ct_ftp_cmd=0, ct_flw_http_mthd=0, ct_src_ltm=2, ct_srv_dst=3, is_sm_ips_ports=0, attack_cat='Normal', label=0.0, vec_features=SparseVector(40, {0: 4.0, 1: 0.0, 2: 2.0, 4: 900.0, 6: 166666.6608, 7: 254.0, 9: 600000000.0, 13: 0.006, 24: 450.0, 28: 3.0, 29: 2.0, 30: 2.0, 31: 2.0, 32: 1.0, 33: 3.0, 37: 2.0, 38: 3.0}), features=DenseVector([18990672.9888, 4117.6432, 599699342.8948, -277957.6186, -4891.8652, 4688.0228, -53840.0815, 1857.9468, 236.2107])),\n",
              " Row(id=5, dur=1e-05, spkts=2, dpkts=0, sbytes=2126, dbytes=0, rate=100000.0025, sttl=254, dttl=0, sload=850400000.0, dload=0.0, sloss=0, dloss=0, sinpkt=0.01, dinpkt=0.0, sjit=0.0, djit=0.0, swin=0, stcpb=0, dtcpb=0, dwin=0, tcprtt=0.0, synack=0.0, ackdat=0.0, smean=1063, dmean=0, trans_depth=0, response_body_len=0, ct_srv_src=3, ct_state_ttl=2, ct_dst_ltm=2, ct_src_dport_ltm=2, ct_dst_sport_ltm=1, ct_dst_src_ltm=3, is_ftp_login=0, ct_ftp_cmd=0, ct_flw_http_mthd=0, ct_src_ltm=2, ct_srv_dst=3, is_sm_ips_ports=0, attack_cat='Normal', label=0.0, vec_features=SparseVector(40, {0: 5.0, 1: 0.0, 2: 2.0, 4: 2126.0, 6: 100000.0025, 7: 254.0, 9: 850400000.0, 13: 0.01, 24: 1063.0, 28: 3.0, 29: 2.0, 30: 2.0, 31: 2.0, 32: 1.0, 33: 3.0, 37: 2.0, 38: 3.0}), features=DenseVector([26916108.3968, 5836.07, 849973818.5806, -394223.0946, -9356.5396, 8972.1513, -212454.0025, 954.0812, 282.8924]))]"
            ]
          },
          "metadata": {
            "tags": []
          },
          "execution_count": 182
        }
      ]
    },
    {
      "cell_type": "markdown",
      "metadata": {
        "id": "D-f158W99zsR"
      },
      "source": [
        "### 3.1.2 Calculation of Silhouette Score"
      ]
    },
    {
      "cell_type": "code",
      "metadata": {
        "id": "kQuFf_U-9zsS",
        "outputId": "4421f00f-08e9-4a3f-f8d8-5db58459c745",
        "colab": {
          "base_uri": "https://localhost:8080/"
        }
      },
      "source": [
        "from pyspark.ml.evaluation import ClusteringEvaluator\n",
        "evaluator = ClusteringEvaluator()\n",
        "silhouette = evaluator.evaluate(predictions)\n",
        "print(\"Silhouette with squared euclidean distance = \" + str(silhouette))"
      ],
      "execution_count": null,
      "outputs": [
        {
          "output_type": "stream",
          "text": [
            "Silhouette with squared euclidean distance = 0.7641545083264973\n"
          ],
          "name": "stdout"
        }
      ]
    },
    {
      "cell_type": "markdown",
      "metadata": {
        "id": "N8WiEX_R9zsU"
      },
      "source": [
        "### 3.2 Analysing of Trained model"
      ]
    },
    {
      "cell_type": "markdown",
      "metadata": {
        "id": "1FIj9dSb9zsV"
      },
      "source": [
        "#### Analysing of how many labels have in a cluster ?"
      ]
    },
    {
      "cell_type": "code",
      "metadata": {
        "id": "77du8i_k9zsV",
        "outputId": "ea870754-21c6-470f-a318-526d925ef73b",
        "colab": {
          "base_uri": "https://localhost:8080/"
        }
      },
      "source": [
        "predictions.select(\"prediction\", \"label\").groupBy(\"prediction\", \"label\").count()\\\n",
        ".orderBy(\"prediction\", \"label\", ascending=True).toPandas().head(10)"
      ],
      "execution_count": null,
      "outputs": [
        {
          "output_type": "execute_result",
          "data": {
            "text/html": [
              "<div>\n",
              "<style scoped>\n",
              "    .dataframe tbody tr th:only-of-type {\n",
              "        vertical-align: middle;\n",
              "    }\n",
              "\n",
              "    .dataframe tbody tr th {\n",
              "        vertical-align: top;\n",
              "    }\n",
              "\n",
              "    .dataframe thead th {\n",
              "        text-align: right;\n",
              "    }\n",
              "</style>\n",
              "<table border=\"1\" class=\"dataframe\">\n",
              "  <thead>\n",
              "    <tr style=\"text-align: right;\">\n",
              "      <th></th>\n",
              "      <th>prediction</th>\n",
              "      <th>label</th>\n",
              "      <th>count</th>\n",
              "    </tr>\n",
              "  </thead>\n",
              "  <tbody>\n",
              "    <tr>\n",
              "      <th>0</th>\n",
              "      <td>0</td>\n",
              "      <td>0.0</td>\n",
              "      <td>20122</td>\n",
              "    </tr>\n",
              "    <tr>\n",
              "      <th>1</th>\n",
              "      <td>0</td>\n",
              "      <td>1.0</td>\n",
              "      <td>419</td>\n",
              "    </tr>\n",
              "    <tr>\n",
              "      <th>2</th>\n",
              "      <td>0</td>\n",
              "      <td>2.0</td>\n",
              "      <td>6125</td>\n",
              "    </tr>\n",
              "    <tr>\n",
              "      <th>3</th>\n",
              "      <td>0</td>\n",
              "      <td>3.0</td>\n",
              "      <td>2902</td>\n",
              "    </tr>\n",
              "    <tr>\n",
              "      <th>4</th>\n",
              "      <td>0</td>\n",
              "      <td>4.0</td>\n",
              "      <td>790</td>\n",
              "    </tr>\n",
              "    <tr>\n",
              "      <th>5</th>\n",
              "      <td>0</td>\n",
              "      <td>5.0</td>\n",
              "      <td>1452</td>\n",
              "    </tr>\n",
              "    <tr>\n",
              "      <th>6</th>\n",
              "      <td>0</td>\n",
              "      <td>6.0</td>\n",
              "      <td>43</td>\n",
              "    </tr>\n",
              "    <tr>\n",
              "      <th>7</th>\n",
              "      <td>0</td>\n",
              "      <td>7.0</td>\n",
              "      <td>40</td>\n",
              "    </tr>\n",
              "    <tr>\n",
              "      <th>8</th>\n",
              "      <td>0</td>\n",
              "      <td>8.0</td>\n",
              "      <td>149</td>\n",
              "    </tr>\n",
              "    <tr>\n",
              "      <th>9</th>\n",
              "      <td>0</td>\n",
              "      <td>9.0</td>\n",
              "      <td>26</td>\n",
              "    </tr>\n",
              "  </tbody>\n",
              "</table>\n",
              "</div>"
            ],
            "text/plain": [
              "   prediction  label  count\n",
              "0           0    0.0  20122\n",
              "1           0    1.0    419\n",
              "2           0    2.0   6125\n",
              "3           0    3.0   2902\n",
              "4           0    4.0    790\n",
              "5           0    5.0   1452\n",
              "6           0    6.0     43\n",
              "7           0    7.0     40\n",
              "8           0    8.0    149\n",
              "9           0    9.0     26"
            ]
          },
          "metadata": {
            "tags": []
          },
          "execution_count": 184
        }
      ]
    },
    {
      "cell_type": "code",
      "metadata": {
        "id": "OguC-NUX9zsY",
        "outputId": "fe7d1f2e-b8d2-46e6-fbac-c60b5fdba7a3",
        "colab": {
          "base_uri": "https://localhost:8080/"
        }
      },
      "source": [
        "predictions.select(\"prediction\", \"label\")\\\n",
        ".groupBy(\"prediction\", \"label\").count()\\\n",
        ".orderBy(\"prediction\", \"label\", ascending=True).withColumn(\"status\",\n",
        "funcs.when(funcs.col(\"label\").isin(1), \"Anomaly\")\\\n",
        ".otherwise(\"Normal\")).toPandas().head()"
      ],
      "execution_count": null,
      "outputs": [
        {
          "output_type": "execute_result",
          "data": {
            "text/html": [
              "<div>\n",
              "<style scoped>\n",
              "    .dataframe tbody tr th:only-of-type {\n",
              "        vertical-align: middle;\n",
              "    }\n",
              "\n",
              "    .dataframe tbody tr th {\n",
              "        vertical-align: top;\n",
              "    }\n",
              "\n",
              "    .dataframe thead th {\n",
              "        text-align: right;\n",
              "    }\n",
              "</style>\n",
              "<table border=\"1\" class=\"dataframe\">\n",
              "  <thead>\n",
              "    <tr style=\"text-align: right;\">\n",
              "      <th></th>\n",
              "      <th>prediction</th>\n",
              "      <th>label</th>\n",
              "      <th>count</th>\n",
              "      <th>status</th>\n",
              "    </tr>\n",
              "  </thead>\n",
              "  <tbody>\n",
              "    <tr>\n",
              "      <th>0</th>\n",
              "      <td>0</td>\n",
              "      <td>0.0</td>\n",
              "      <td>20122</td>\n",
              "      <td>Normal</td>\n",
              "    </tr>\n",
              "    <tr>\n",
              "      <th>1</th>\n",
              "      <td>0</td>\n",
              "      <td>1.0</td>\n",
              "      <td>419</td>\n",
              "      <td>Anomaly</td>\n",
              "    </tr>\n",
              "    <tr>\n",
              "      <th>2</th>\n",
              "      <td>0</td>\n",
              "      <td>2.0</td>\n",
              "      <td>6125</td>\n",
              "      <td>Normal</td>\n",
              "    </tr>\n",
              "    <tr>\n",
              "      <th>3</th>\n",
              "      <td>0</td>\n",
              "      <td>3.0</td>\n",
              "      <td>2902</td>\n",
              "      <td>Normal</td>\n",
              "    </tr>\n",
              "    <tr>\n",
              "      <th>4</th>\n",
              "      <td>0</td>\n",
              "      <td>4.0</td>\n",
              "      <td>790</td>\n",
              "      <td>Normal</td>\n",
              "    </tr>\n",
              "  </tbody>\n",
              "</table>\n",
              "</div>"
            ],
            "text/plain": [
              "   prediction  label  count   status\n",
              "0           0    0.0  20122   Normal\n",
              "1           0    1.0    419  Anomaly\n",
              "2           0    2.0   6125   Normal\n",
              "3           0    3.0   2902   Normal\n",
              "4           0    4.0    790   Normal"
            ]
          },
          "metadata": {
            "tags": []
          },
          "execution_count": 185
        }
      ]
    },
    {
      "cell_type": "markdown",
      "metadata": {
        "id": "x4kJaL2w9zsd"
      },
      "source": [
        "### 3.3 Calculation of centroids for every cluster"
      ]
    },
    {
      "cell_type": "code",
      "metadata": {
        "scrolled": true,
        "id": "Zh5sS8xa9zse",
        "outputId": "b5a8eed8-18a2-403a-aa9a-552ffb658325",
        "colab": {
          "base_uri": "https://localhost:8080/",
          "height": 119
        }
      },
      "source": [
        "train_clusters = model.clusterCenters()\n",
        "\n",
        "traind_clusters = {int(i):[float(train_clusters[i][j]) for j in range(len(train_clusters[i]))] \n",
        "              for i in range(len(train_clusters))}\n",
        "train_clusters"
      ],
      "execution_count": null,
      "outputs": [
        {
          "output_type": "execute_result",
          "data": {
            "text/plain": [
              "[array([-3.53987486e+09,  7.21069162e+06,  9.79013203e+07, -7.27953090e+05,\n",
              "        -3.50022419e+03, -4.59904213e+04,  6.94134083e+03, -1.01817722e+03,\n",
              "         4.99206380e+04]),\n",
              " array([-4.63817818e+08, -2.04559348e+06,  9.93055341e+07, -8.08098696e+05,\n",
              "        -3.90772282e+03, -4.71055870e+04,  6.13599140e+03, -8.72729361e+02,\n",
              "         4.93227479e+04])]"
            ]
          },
          "metadata": {
            "tags": []
          },
          "execution_count": 186
        }
      ]
    },
    {
      "cell_type": "code",
      "metadata": {
        "id": "m156PONy9zsj",
        "outputId": "d3da2338-ec34-4fa7-f04d-2822986a1941",
        "colab": {
          "base_uri": "https://localhost:8080/",
          "height": 111
        }
      },
      "source": [
        "train_df_centers = spark.sparkContext.parallelize([(k,)+(v,) for k,v in traind_clusters.items()]).toDF(['prediction','center'])\n",
        "train_df_centers.toPandas().head()"
      ],
      "execution_count": null,
      "outputs": [
        {
          "output_type": "execute_result",
          "data": {
            "text/html": [
              "<div>\n",
              "<style scoped>\n",
              "    .dataframe tbody tr th:only-of-type {\n",
              "        vertical-align: middle;\n",
              "    }\n",
              "\n",
              "    .dataframe tbody tr th {\n",
              "        vertical-align: top;\n",
              "    }\n",
              "\n",
              "    .dataframe thead th {\n",
              "        text-align: right;\n",
              "    }\n",
              "</style>\n",
              "<table border=\"1\" class=\"dataframe\">\n",
              "  <thead>\n",
              "    <tr style=\"text-align: right;\">\n",
              "      <th></th>\n",
              "      <th>prediction</th>\n",
              "      <th>center</th>\n",
              "    </tr>\n",
              "  </thead>\n",
              "  <tbody>\n",
              "    <tr>\n",
              "      <th>0</th>\n",
              "      <td>0</td>\n",
              "      <td>[-3539874863.1353145, 7210691.6237883195, 9790...</td>\n",
              "    </tr>\n",
              "    <tr>\n",
              "      <th>1</th>\n",
              "      <td>1</td>\n",
              "      <td>[-463817818.45496565, -2045593.4777213074, 993...</td>\n",
              "    </tr>\n",
              "  </tbody>\n",
              "</table>\n",
              "</div>"
            ],
            "text/plain": [
              "   prediction                                             center\n",
              "0           0  [-3539874863.1353145, 7210691.6237883195, 9790...\n",
              "1           1  [-463817818.45496565, -2045593.4777213074, 993..."
            ]
          },
          "metadata": {
            "tags": []
          },
          "execution_count": 187
        }
      ]
    },
    {
      "cell_type": "code",
      "metadata": {
        "id": "T6hBt1ju9zsn",
        "outputId": "477f6715-3449-4ad0-af28-94a8f9a4db9c",
        "colab": {
          "base_uri": "https://localhost:8080/",
          "height": 204
        }
      },
      "source": [
        "train_pred_df = predictions.withColumn('prediction',funcs.col('prediction').cast(IntegerType()))\n",
        "train_pred_df.toPandas().head()"
      ],
      "execution_count": null,
      "outputs": [
        {
          "output_type": "execute_result",
          "data": {
            "text/html": [
              "<div>\n",
              "<style scoped>\n",
              "    .dataframe tbody tr th:only-of-type {\n",
              "        vertical-align: middle;\n",
              "    }\n",
              "\n",
              "    .dataframe tbody tr th {\n",
              "        vertical-align: top;\n",
              "    }\n",
              "\n",
              "    .dataframe thead th {\n",
              "        text-align: right;\n",
              "    }\n",
              "</style>\n",
              "<table border=\"1\" class=\"dataframe\">\n",
              "  <thead>\n",
              "    <tr style=\"text-align: right;\">\n",
              "      <th></th>\n",
              "      <th>features</th>\n",
              "      <th>label</th>\n",
              "      <th>prediction</th>\n",
              "    </tr>\n",
              "  </thead>\n",
              "  <tbody>\n",
              "    <tr>\n",
              "      <th>0</th>\n",
              "      <td>[5708712.889189165, 1237.7888575087018, 180273...</td>\n",
              "      <td>0.0</td>\n",
              "      <td>1</td>\n",
              "    </tr>\n",
              "    <tr>\n",
              "      <th>1</th>\n",
              "      <td>[27884633.38072515, 6046.07048660398, 88055849...</td>\n",
              "      <td>0.0</td>\n",
              "      <td>1</td>\n",
              "    </tr>\n",
              "    <tr>\n",
              "      <th>2</th>\n",
              "      <td>[27042716.843218617, 5863.523577897636, 853971...</td>\n",
              "      <td>0.0</td>\n",
              "      <td>1</td>\n",
              "    </tr>\n",
              "    <tr>\n",
              "      <th>3</th>\n",
              "      <td>[18990672.98883812, 4117.643203814579, 5996993...</td>\n",
              "      <td>0.0</td>\n",
              "      <td>1</td>\n",
              "    </tr>\n",
              "    <tr>\n",
              "      <th>4</th>\n",
              "      <td>[26916108.39680101, 5836.070002120078, 8499738...</td>\n",
              "      <td>0.0</td>\n",
              "      <td>1</td>\n",
              "    </tr>\n",
              "  </tbody>\n",
              "</table>\n",
              "</div>"
            ],
            "text/plain": [
              "                                            features  label  prediction\n",
              "0  [5708712.889189165, 1237.7888575087018, 180273...    0.0           1\n",
              "1  [27884633.38072515, 6046.07048660398, 88055849...    0.0           1\n",
              "2  [27042716.843218617, 5863.523577897636, 853971...    0.0           1\n",
              "3  [18990672.98883812, 4117.643203814579, 5996993...    0.0           1\n",
              "4  [26916108.39680101, 5836.070002120078, 8499738...    0.0           1"
            ]
          },
          "metadata": {
            "tags": []
          },
          "execution_count": 188
        }
      ]
    },
    {
      "cell_type": "markdown",
      "metadata": {
        "id": "cmFoqJiC9zst"
      },
      "source": [
        "### 3.3.1 Joining of centroid and feature dataframes"
      ]
    },
    {
      "cell_type": "code",
      "metadata": {
        "id": "l_HpuC6N9zsu",
        "outputId": "da82a4be-775f-4547-a121-5042d8c26763",
        "colab": {
          "base_uri": "https://localhost:8080/"
        }
      },
      "source": [
        "train_pred_df = train_pred_df.join(train_df_centers,on='prediction',how='left')\n",
        "train_pred_df.toPandas().head()"
      ],
      "execution_count": null,
      "outputs": [
        {
          "output_type": "execute_result",
          "data": {
            "text/html": [
              "<div>\n",
              "<style scoped>\n",
              "    .dataframe tbody tr th:only-of-type {\n",
              "        vertical-align: middle;\n",
              "    }\n",
              "\n",
              "    .dataframe tbody tr th {\n",
              "        vertical-align: top;\n",
              "    }\n",
              "\n",
              "    .dataframe thead th {\n",
              "        text-align: right;\n",
              "    }\n",
              "</style>\n",
              "<table border=\"1\" class=\"dataframe\">\n",
              "  <thead>\n",
              "    <tr style=\"text-align: right;\">\n",
              "      <th></th>\n",
              "      <th>prediction</th>\n",
              "      <th>features</th>\n",
              "      <th>label</th>\n",
              "      <th>center</th>\n",
              "    </tr>\n",
              "  </thead>\n",
              "  <tbody>\n",
              "    <tr>\n",
              "      <th>0</th>\n",
              "      <td>0</td>\n",
              "      <td>[-3945513635.0590897, -840436628.619345, 12495...</td>\n",
              "      <td>0.0</td>\n",
              "      <td>[-3539874863.1353145, 7210691.6237883195, 9790...</td>\n",
              "    </tr>\n",
              "    <tr>\n",
              "      <th>1</th>\n",
              "      <td>0</td>\n",
              "      <td>[-3145010118.4775715, 1618262491.021295, 99603...</td>\n",
              "      <td>0.0</td>\n",
              "      <td>[-3539874863.1353145, 7210691.6237883195, 9790...</td>\n",
              "    </tr>\n",
              "    <tr>\n",
              "      <th>2</th>\n",
              "      <td>0</td>\n",
              "      <td>[-4469369077.999338, 887516385.47205, 14153129...</td>\n",
              "      <td>0.0</td>\n",
              "      <td>[-3539874863.1353145, 7210691.6237883195, 9790...</td>\n",
              "    </tr>\n",
              "    <tr>\n",
              "      <th>3</th>\n",
              "      <td>0</td>\n",
              "      <td>[-2712068004.352801, -1734310994.9684193, 8589...</td>\n",
              "      <td>0.0</td>\n",
              "      <td>[-3539874863.1353145, 7210691.6237883195, 9790...</td>\n",
              "    </tr>\n",
              "    <tr>\n",
              "      <th>4</th>\n",
              "      <td>0</td>\n",
              "      <td>[-2311546963.3735495, -323231314.0366038, 7320...</td>\n",
              "      <td>0.0</td>\n",
              "      <td>[-3539874863.1353145, 7210691.6237883195, 9790...</td>\n",
              "    </tr>\n",
              "  </tbody>\n",
              "</table>\n",
              "</div>"
            ],
            "text/plain": [
              "   prediction  ...                                             center\n",
              "0           0  ...  [-3539874863.1353145, 7210691.6237883195, 9790...\n",
              "1           0  ...  [-3539874863.1353145, 7210691.6237883195, 9790...\n",
              "2           0  ...  [-3539874863.1353145, 7210691.6237883195, 9790...\n",
              "3           0  ...  [-3539874863.1353145, 7210691.6237883195, 9790...\n",
              "4           0  ...  [-3539874863.1353145, 7210691.6237883195, 9790...\n",
              "\n",
              "[5 rows x 4 columns]"
            ]
          },
          "metadata": {
            "tags": []
          },
          "execution_count": 189
        }
      ]
    },
    {
      "cell_type": "markdown",
      "metadata": {
        "id": "OB85rWsZ9zs0"
      },
      "source": [
        "### 3.4 Finding Anomaly Values"
      ]
    },
    {
      "cell_type": "markdown",
      "metadata": {
        "id": "UnM5E7HS9zs1"
      },
      "source": [
        "#### Getting distance values function"
      ]
    },
    {
      "cell_type": "code",
      "metadata": {
        "id": "Sv75fg4t9zs1"
      },
      "source": [
        "get_dist = funcs.udf(lambda features, center :\n",
        "                 float(features.squared_distance(center)),FloatType())"
      ],
      "execution_count": null,
      "outputs": []
    },
    {
      "cell_type": "markdown",
      "metadata": {
        "id": "wvlPJ7FJ9zs4"
      },
      "source": [
        "#### Sorting the furthest distance values"
      ]
    },
    {
      "cell_type": "code",
      "metadata": {
        "scrolled": true,
        "id": "ffWQMA6c9zs4",
        "outputId": "3a01f0af-2578-4f15-93ec-8b9f10f69054",
        "colab": {
          "base_uri": "https://localhost:8080/"
        }
      },
      "source": [
        "train_pred_df = train_pred_df.withColumn('dist',get_dist(funcs.col('features'),funcs.col('center')))\n",
        "train_pred_df.toPandas().sort_values(by=\"dist\",ascending=False).head(10)"
      ],
      "execution_count": null,
      "outputs": [
        {
          "output_type": "execute_result",
          "data": {
            "text/html": [
              "<div>\n",
              "<style scoped>\n",
              "    .dataframe tbody tr th:only-of-type {\n",
              "        vertical-align: middle;\n",
              "    }\n",
              "\n",
              "    .dataframe tbody tr th {\n",
              "        vertical-align: top;\n",
              "    }\n",
              "\n",
              "    .dataframe thead th {\n",
              "        text-align: right;\n",
              "    }\n",
              "</style>\n",
              "<table border=\"1\" class=\"dataframe\">\n",
              "  <thead>\n",
              "    <tr style=\"text-align: right;\">\n",
              "      <th></th>\n",
              "      <th>prediction</th>\n",
              "      <th>features</th>\n",
              "      <th>label</th>\n",
              "      <th>center</th>\n",
              "      <th>dist</th>\n",
              "    </tr>\n",
              "  </thead>\n",
              "  <tbody>\n",
              "    <tr>\n",
              "      <th>60148</th>\n",
              "      <td>1</td>\n",
              "      <td>[166738078.32773128, 36152.897495451725, 52653...</td>\n",
              "      <td>4.0</td>\n",
              "      <td>[-463817818.45496565, -2045593.4777213074, 993...</td>\n",
              "      <td>2.708573e+19</td>\n",
              "    </tr>\n",
              "    <tr>\n",
              "      <th>60145</th>\n",
              "      <td>1</td>\n",
              "      <td>[166738078.32773775, 36152.89749561954, 526536...</td>\n",
              "      <td>2.0</td>\n",
              "      <td>[-463817818.45496565, -2045593.4777213074, 993...</td>\n",
              "      <td>2.708573e+19</td>\n",
              "    </tr>\n",
              "    <tr>\n",
              "      <th>60147</th>\n",
              "      <td>1</td>\n",
              "      <td>[166738078.32773343, 36152.89749550766, 526536...</td>\n",
              "      <td>4.0</td>\n",
              "      <td>[-463817818.45496565, -2045593.4777213074, 993...</td>\n",
              "      <td>2.708573e+19</td>\n",
              "    </tr>\n",
              "    <tr>\n",
              "      <th>60149</th>\n",
              "      <td>1</td>\n",
              "      <td>[166738078.32772914, 36152.89749539578, 526536...</td>\n",
              "      <td>4.0</td>\n",
              "      <td>[-463817818.45496565, -2045593.4777213074, 993...</td>\n",
              "      <td>2.708573e+19</td>\n",
              "    </tr>\n",
              "    <tr>\n",
              "      <th>60146</th>\n",
              "      <td>1</td>\n",
              "      <td>[166738078.3277356, 36152.8974955636, 52653601...</td>\n",
              "      <td>2.0</td>\n",
              "      <td>[-463817818.45496565, -2045593.4777213074, 993...</td>\n",
              "      <td>2.708573e+19</td>\n",
              "    </tr>\n",
              "    <tr>\n",
              "      <th>60144</th>\n",
              "      <td>1</td>\n",
              "      <td>[166738078.3277399, 36152.897495675476, 526536...</td>\n",
              "      <td>2.0</td>\n",
              "      <td>[-463817818.45496565, -2045593.4777213074, 993...</td>\n",
              "      <td>2.708573e+19</td>\n",
              "    </tr>\n",
              "    <tr>\n",
              "      <th>81207</th>\n",
              "      <td>1</td>\n",
              "      <td>[138252070.6633688, 29976.431789254748, 436581...</td>\n",
              "      <td>0.0</td>\n",
              "      <td>[-463817818.45496565, -2045593.4777213074, 993...</td>\n",
              "      <td>1.856556e+19</td>\n",
              "    </tr>\n",
              "    <tr>\n",
              "      <th>80237</th>\n",
              "      <td>1</td>\n",
              "      <td>[134707166.2947062, 29207.814257699774, 425386...</td>\n",
              "      <td>0.0</td>\n",
              "      <td>[-463817818.45496565, -2045593.4777213074, 993...</td>\n",
              "      <td>1.761862e+19</td>\n",
              "    </tr>\n",
              "    <tr>\n",
              "      <th>59670</th>\n",
              "      <td>1</td>\n",
              "      <td>[134707166.369035, 29207.81618858013, 42538672...</td>\n",
              "      <td>0.0</td>\n",
              "      <td>[-463817818.45496565, -2045593.4777213074, 993...</td>\n",
              "      <td>1.761862e+19</td>\n",
              "    </tr>\n",
              "    <tr>\n",
              "      <th>62641</th>\n",
              "      <td>1</td>\n",
              "      <td>[134707166.3553571, 29207.81583325966, 4253867...</td>\n",
              "      <td>3.0</td>\n",
              "      <td>[-463817818.45496565, -2045593.4777213074, 993...</td>\n",
              "      <td>1.761862e+19</td>\n",
              "    </tr>\n",
              "  </tbody>\n",
              "</table>\n",
              "</div>"
            ],
            "text/plain": [
              "       prediction  ...          dist\n",
              "60148           1  ...  2.708573e+19\n",
              "60145           1  ...  2.708573e+19\n",
              "60147           1  ...  2.708573e+19\n",
              "60149           1  ...  2.708573e+19\n",
              "60146           1  ...  2.708573e+19\n",
              "60144           1  ...  2.708573e+19\n",
              "81207           1  ...  1.856556e+19\n",
              "80237           1  ...  1.761862e+19\n",
              "59670           1  ...  1.761862e+19\n",
              "62641           1  ...  1.761862e+19\n",
              "\n",
              "[10 rows x 5 columns]"
            ]
          },
          "metadata": {
            "tags": []
          },
          "execution_count": 191
        }
      ]
    },
    {
      "cell_type": "markdown",
      "metadata": {
        "id": "U02F7nNo9zs8"
      },
      "source": [
        "### 3.5 Calculation of Threshold Value according to distance"
      ]
    },
    {
      "cell_type": "markdown",
      "metadata": {
        "id": "1sRcXu2_9zs9"
      },
      "source": [
        "### 3.5.1 Average distance for every cluster "
      ]
    },
    {
      "cell_type": "code",
      "metadata": {
        "scrolled": false,
        "id": "MS4-uHGb9zs9",
        "outputId": "a1c4afc6-a5a1-444f-e195-706fbee9aa9c",
        "colab": {
          "base_uri": "https://localhost:8080/"
        }
      },
      "source": [
        "averageDistance = train_pred_df.filter(funcs.col(\"label\") == 0.0).groupBy(\"prediction\")\\\n",
        ".agg(funcs.avg(\"dist\").alias(\"avgDist\"))\n",
        "averageDistance.toPandas().head()"
      ],
      "execution_count": null,
      "outputs": [
        {
          "output_type": "execute_result",
          "data": {
            "text/html": [
              "<div>\n",
              "<style scoped>\n",
              "    .dataframe tbody tr th:only-of-type {\n",
              "        vertical-align: middle;\n",
              "    }\n",
              "\n",
              "    .dataframe tbody tr th {\n",
              "        vertical-align: top;\n",
              "    }\n",
              "\n",
              "    .dataframe thead th {\n",
              "        text-align: right;\n",
              "    }\n",
              "</style>\n",
              "<table border=\"1\" class=\"dataframe\">\n",
              "  <thead>\n",
              "    <tr style=\"text-align: right;\">\n",
              "      <th></th>\n",
              "      <th>prediction</th>\n",
              "      <th>avgDist</th>\n",
              "    </tr>\n",
              "  </thead>\n",
              "  <tbody>\n",
              "    <tr>\n",
              "      <th>0</th>\n",
              "      <td>1</td>\n",
              "      <td>8.193462e+17</td>\n",
              "    </tr>\n",
              "    <tr>\n",
              "      <th>1</th>\n",
              "      <td>0</td>\n",
              "      <td>2.544128e+18</td>\n",
              "    </tr>\n",
              "  </tbody>\n",
              "</table>\n",
              "</div>"
            ],
            "text/plain": [
              "   prediction       avgDist\n",
              "0           1  8.193462e+17\n",
              "1           0  2.544128e+18"
            ]
          },
          "metadata": {
            "tags": []
          },
          "execution_count": 192
        }
      ]
    },
    {
      "cell_type": "markdown",
      "metadata": {
        "id": "370wlEdg9ztE"
      },
      "source": [
        "### 3.5.2 Maximum distance for every cluster "
      ]
    },
    {
      "cell_type": "code",
      "metadata": {
        "id": "HDAWi0Tk9ztF",
        "outputId": "35bc6156-4cd0-4cd0-9d66-4a53ffef510e",
        "colab": {
          "base_uri": "https://localhost:8080/"
        }
      },
      "source": [
        "maxDistance = train_pred_df.filter(funcs.col(\"label\") == 0.0).groupBy(\"prediction\")\\\n",
        ".agg(funcs.max(\"dist\").alias(\"maxDist\"))\n",
        "maxDistance.toPandas().head()"
      ],
      "execution_count": null,
      "outputs": [
        {
          "output_type": "execute_result",
          "data": {
            "text/html": [
              "<div>\n",
              "<style scoped>\n",
              "    .dataframe tbody tr th:only-of-type {\n",
              "        vertical-align: middle;\n",
              "    }\n",
              "\n",
              "    .dataframe tbody tr th {\n",
              "        vertical-align: top;\n",
              "    }\n",
              "\n",
              "    .dataframe thead th {\n",
              "        text-align: right;\n",
              "    }\n",
              "</style>\n",
              "<table border=\"1\" class=\"dataframe\">\n",
              "  <thead>\n",
              "    <tr style=\"text-align: right;\">\n",
              "      <th></th>\n",
              "      <th>prediction</th>\n",
              "      <th>maxDist</th>\n",
              "    </tr>\n",
              "  </thead>\n",
              "  <tbody>\n",
              "    <tr>\n",
              "      <th>0</th>\n",
              "      <td>1</td>\n",
              "      <td>1.856556e+19</td>\n",
              "    </tr>\n",
              "    <tr>\n",
              "      <th>1</th>\n",
              "      <td>0</td>\n",
              "      <td>9.306718e+18</td>\n",
              "    </tr>\n",
              "  </tbody>\n",
              "</table>\n",
              "</div>"
            ],
            "text/plain": [
              "   prediction       maxDist\n",
              "0           1  1.856556e+19\n",
              "1           0  9.306718e+18"
            ]
          },
          "metadata": {
            "tags": []
          },
          "execution_count": 193
        }
      ]
    },
    {
      "cell_type": "markdown",
      "metadata": {
        "id": "Yd30JO9v9ztK"
      },
      "source": [
        "### Predicted Dataframe"
      ]
    },
    {
      "cell_type": "code",
      "metadata": {
        "scrolled": false,
        "id": "MnU48Ou-9ztL",
        "outputId": "a0223b44-41b0-4c21-9ddf-3361e55580ba",
        "colab": {
          "base_uri": "https://localhost:8080/"
        }
      },
      "source": [
        "train_pred_df.toPandas().head(5)"
      ],
      "execution_count": null,
      "outputs": [
        {
          "output_type": "execute_result",
          "data": {
            "text/html": [
              "<div>\n",
              "<style scoped>\n",
              "    .dataframe tbody tr th:only-of-type {\n",
              "        vertical-align: middle;\n",
              "    }\n",
              "\n",
              "    .dataframe tbody tr th {\n",
              "        vertical-align: top;\n",
              "    }\n",
              "\n",
              "    .dataframe thead th {\n",
              "        text-align: right;\n",
              "    }\n",
              "</style>\n",
              "<table border=\"1\" class=\"dataframe\">\n",
              "  <thead>\n",
              "    <tr style=\"text-align: right;\">\n",
              "      <th></th>\n",
              "      <th>prediction</th>\n",
              "      <th>features</th>\n",
              "      <th>label</th>\n",
              "      <th>center</th>\n",
              "      <th>dist</th>\n",
              "    </tr>\n",
              "  </thead>\n",
              "  <tbody>\n",
              "    <tr>\n",
              "      <th>0</th>\n",
              "      <td>0</td>\n",
              "      <td>[-3945513635.0590897, -840436628.619345, 12495...</td>\n",
              "      <td>0.0</td>\n",
              "      <td>[-3539874863.1353145, 7210691.6237883195, 9790...</td>\n",
              "      <td>8.837835e+17</td>\n",
              "    </tr>\n",
              "    <tr>\n",
              "      <th>1</th>\n",
              "      <td>0</td>\n",
              "      <td>[-3145010118.4775715, 1618262491.021295, 99603...</td>\n",
              "      <td>0.0</td>\n",
              "      <td>[-3539874863.1353145, 7210691.6237883195, 9790...</td>\n",
              "      <td>2.751411e+18</td>\n",
              "    </tr>\n",
              "    <tr>\n",
              "      <th>2</th>\n",
              "      <td>0</td>\n",
              "      <td>[-4469369077.999338, 887516385.47205, 14153129...</td>\n",
              "      <td>0.0</td>\n",
              "      <td>[-3539874863.1353145, 7210691.6237883195, 9790...</td>\n",
              "      <td>1.640805e+18</td>\n",
              "    </tr>\n",
              "    <tr>\n",
              "      <th>3</th>\n",
              "      <td>0</td>\n",
              "      <td>[-2712068004.352801, -1734310994.9684193, 8589...</td>\n",
              "      <td>0.0</td>\n",
              "      <td>[-3539874863.1353145, 7210691.6237883195, 9790...</td>\n",
              "      <td>3.718308e+18</td>\n",
              "    </tr>\n",
              "    <tr>\n",
              "      <th>4</th>\n",
              "      <td>0</td>\n",
              "      <td>[-2311546963.3735495, -323231314.0366038, 7320...</td>\n",
              "      <td>0.0</td>\n",
              "      <td>[-3539874863.1353145, 7210691.6237883195, 9790...</td>\n",
              "      <td>1.618593e+18</td>\n",
              "    </tr>\n",
              "  </tbody>\n",
              "</table>\n",
              "</div>"
            ],
            "text/plain": [
              "   prediction  ...          dist\n",
              "0           0  ...  8.837835e+17\n",
              "1           0  ...  2.751411e+18\n",
              "2           0  ...  1.640805e+18\n",
              "3           0  ...  3.718308e+18\n",
              "4           0  ...  1.618593e+18\n",
              "\n",
              "[5 rows x 5 columns]"
            ]
          },
          "metadata": {
            "tags": []
          },
          "execution_count": 194
        }
      ]
    },
    {
      "cell_type": "markdown",
      "metadata": {
        "id": "NpMYbBu-9ztR"
      },
      "source": [
        "#### 3.5.3 Joining of predicted and threshold dataframes"
      ]
    },
    {
      "cell_type": "code",
      "metadata": {
        "scrolled": true,
        "id": "wydFrfFd9ztS",
        "outputId": "670e79a9-1f72-4d6c-f27e-076389bf3640",
        "colab": {
          "base_uri": "https://localhost:8080/"
        }
      },
      "source": [
        "anomalyDetection = train_pred_df.join(maxDistance, maxDistance.prediction == train_pred_df.prediction)\n",
        "\n",
        "anomalyDetection.toPandas().head(5)"
      ],
      "execution_count": null,
      "outputs": [
        {
          "output_type": "execute_result",
          "data": {
            "text/html": [
              "<div>\n",
              "<style scoped>\n",
              "    .dataframe tbody tr th:only-of-type {\n",
              "        vertical-align: middle;\n",
              "    }\n",
              "\n",
              "    .dataframe tbody tr th {\n",
              "        vertical-align: top;\n",
              "    }\n",
              "\n",
              "    .dataframe thead th {\n",
              "        text-align: right;\n",
              "    }\n",
              "</style>\n",
              "<table border=\"1\" class=\"dataframe\">\n",
              "  <thead>\n",
              "    <tr style=\"text-align: right;\">\n",
              "      <th></th>\n",
              "      <th>prediction</th>\n",
              "      <th>features</th>\n",
              "      <th>label</th>\n",
              "      <th>center</th>\n",
              "      <th>dist</th>\n",
              "      <th>prediction</th>\n",
              "      <th>maxDist</th>\n",
              "    </tr>\n",
              "  </thead>\n",
              "  <tbody>\n",
              "    <tr>\n",
              "      <th>0</th>\n",
              "      <td>1</td>\n",
              "      <td>[5708712.889189165, 1237.7888575087018, 180273...</td>\n",
              "      <td>0.0</td>\n",
              "      <td>[-463817818.45496565, -2045593.4777213074, 993...</td>\n",
              "      <td>2.270157e+17</td>\n",
              "      <td>1</td>\n",
              "      <td>1.856556e+19</td>\n",
              "    </tr>\n",
              "    <tr>\n",
              "      <th>1</th>\n",
              "      <td>1</td>\n",
              "      <td>[27884633.38072515, 6046.07048660398, 88055849...</td>\n",
              "      <td>0.0</td>\n",
              "      <td>[-463817818.45496565, -2045593.4777213074, 993...</td>\n",
              "      <td>8.521319e+17</td>\n",
              "      <td>1</td>\n",
              "      <td>1.856556e+19</td>\n",
              "    </tr>\n",
              "    <tr>\n",
              "      <th>2</th>\n",
              "      <td>1</td>\n",
              "      <td>[27042716.843218617, 5863.523577897636, 853971...</td>\n",
              "      <td>0.0</td>\n",
              "      <td>[-463817818.45496565, -2045593.4777213074, 993...</td>\n",
              "      <td>8.104697e+17</td>\n",
              "      <td>1</td>\n",
              "      <td>1.856556e+19</td>\n",
              "    </tr>\n",
              "    <tr>\n",
              "      <th>3</th>\n",
              "      <td>1</td>\n",
              "      <td>[18990672.98883812, 4117.643203814579, 5996993...</td>\n",
              "      <td>0.0</td>\n",
              "      <td>[-463817818.45496565, -2045593.4777213074, 993...</td>\n",
              "      <td>4.835025e+17</td>\n",
              "      <td>1</td>\n",
              "      <td>1.856556e+19</td>\n",
              "    </tr>\n",
              "    <tr>\n",
              "      <th>4</th>\n",
              "      <td>1</td>\n",
              "      <td>[26916108.39680101, 5836.070002120078, 8499738...</td>\n",
              "      <td>0.0</td>\n",
              "      <td>[-463817818.45496565, -2045593.4777213074, 993...</td>\n",
              "      <td>8.043271e+17</td>\n",
              "      <td>1</td>\n",
              "      <td>1.856556e+19</td>\n",
              "    </tr>\n",
              "  </tbody>\n",
              "</table>\n",
              "</div>"
            ],
            "text/plain": [
              "   prediction  ...       maxDist\n",
              "0           1  ...  1.856556e+19\n",
              "1           1  ...  1.856556e+19\n",
              "2           1  ...  1.856556e+19\n",
              "3           1  ...  1.856556e+19\n",
              "4           1  ...  1.856556e+19\n",
              "\n",
              "[5 rows x 7 columns]"
            ]
          },
          "metadata": {
            "tags": []
          },
          "execution_count": 195
        }
      ]
    },
    {
      "cell_type": "markdown",
      "metadata": {
        "id": "VkI_bZ7y9ztX"
      },
      "source": [
        "### 3.6 Assigning of labels as normal or anomaly"
      ]
    },
    {
      "cell_type": "code",
      "metadata": {
        "scrolled": true,
        "id": "6CQuqnLR9ztX",
        "outputId": "37797357-20ab-4558-b8bc-4c548ee8b18f",
        "colab": {
          "base_uri": "https://localhost:8080/"
        }
      },
      "source": [
        "detected_df = anomalyDetection.withColumn(\"detected\", funcs.when(anomalyDetection.dist > anomalyDetection.maxDist, \"Anomaly\").otherwise(\"Normal\"))\n",
        "detected_df.toPandas().head(5)"
      ],
      "execution_count": null,
      "outputs": [
        {
          "output_type": "execute_result",
          "data": {
            "text/html": [
              "<div>\n",
              "<style scoped>\n",
              "    .dataframe tbody tr th:only-of-type {\n",
              "        vertical-align: middle;\n",
              "    }\n",
              "\n",
              "    .dataframe tbody tr th {\n",
              "        vertical-align: top;\n",
              "    }\n",
              "\n",
              "    .dataframe thead th {\n",
              "        text-align: right;\n",
              "    }\n",
              "</style>\n",
              "<table border=\"1\" class=\"dataframe\">\n",
              "  <thead>\n",
              "    <tr style=\"text-align: right;\">\n",
              "      <th></th>\n",
              "      <th>prediction</th>\n",
              "      <th>features</th>\n",
              "      <th>label</th>\n",
              "      <th>center</th>\n",
              "      <th>dist</th>\n",
              "      <th>prediction</th>\n",
              "      <th>maxDist</th>\n",
              "      <th>detected</th>\n",
              "    </tr>\n",
              "  </thead>\n",
              "  <tbody>\n",
              "    <tr>\n",
              "      <th>0</th>\n",
              "      <td>1</td>\n",
              "      <td>[5708712.889189165, 1237.7888575087018, 180273...</td>\n",
              "      <td>0.0</td>\n",
              "      <td>[-463817818.45496565, -2045593.4777213074, 993...</td>\n",
              "      <td>2.270157e+17</td>\n",
              "      <td>1</td>\n",
              "      <td>1.856556e+19</td>\n",
              "      <td>Normal</td>\n",
              "    </tr>\n",
              "    <tr>\n",
              "      <th>1</th>\n",
              "      <td>1</td>\n",
              "      <td>[27884633.38072515, 6046.07048660398, 88055849...</td>\n",
              "      <td>0.0</td>\n",
              "      <td>[-463817818.45496565, -2045593.4777213074, 993...</td>\n",
              "      <td>8.521319e+17</td>\n",
              "      <td>1</td>\n",
              "      <td>1.856556e+19</td>\n",
              "      <td>Normal</td>\n",
              "    </tr>\n",
              "    <tr>\n",
              "      <th>2</th>\n",
              "      <td>1</td>\n",
              "      <td>[27042716.843218617, 5863.523577897636, 853971...</td>\n",
              "      <td>0.0</td>\n",
              "      <td>[-463817818.45496565, -2045593.4777213074, 993...</td>\n",
              "      <td>8.104697e+17</td>\n",
              "      <td>1</td>\n",
              "      <td>1.856556e+19</td>\n",
              "      <td>Normal</td>\n",
              "    </tr>\n",
              "    <tr>\n",
              "      <th>3</th>\n",
              "      <td>1</td>\n",
              "      <td>[18990672.98883812, 4117.643203814579, 5996993...</td>\n",
              "      <td>0.0</td>\n",
              "      <td>[-463817818.45496565, -2045593.4777213074, 993...</td>\n",
              "      <td>4.835025e+17</td>\n",
              "      <td>1</td>\n",
              "      <td>1.856556e+19</td>\n",
              "      <td>Normal</td>\n",
              "    </tr>\n",
              "    <tr>\n",
              "      <th>4</th>\n",
              "      <td>1</td>\n",
              "      <td>[26916108.39680101, 5836.070002120078, 8499738...</td>\n",
              "      <td>0.0</td>\n",
              "      <td>[-463817818.45496565, -2045593.4777213074, 993...</td>\n",
              "      <td>8.043271e+17</td>\n",
              "      <td>1</td>\n",
              "      <td>1.856556e+19</td>\n",
              "      <td>Normal</td>\n",
              "    </tr>\n",
              "  </tbody>\n",
              "</table>\n",
              "</div>"
            ],
            "text/plain": [
              "   prediction  ... detected\n",
              "0           1  ...   Normal\n",
              "1           1  ...   Normal\n",
              "2           1  ...   Normal\n",
              "3           1  ...   Normal\n",
              "4           1  ...   Normal\n",
              "\n",
              "[5 rows x 8 columns]"
            ]
          },
          "metadata": {
            "tags": []
          },
          "execution_count": 196
        }
      ]
    },
    {
      "cell_type": "markdown",
      "metadata": {
        "id": "AxqY2MlI9zte"
      },
      "source": [
        "### 3.7 Evaluation of result using Confusion Matrix"
      ]
    },
    {
      "cell_type": "code",
      "metadata": {
        "id": "yiO6T5JE9ztg",
        "outputId": "dc4208a6-36bb-4460-ad11-bb650be50ff2",
        "colab": {
          "base_uri": "https://localhost:8080/"
        }
      },
      "source": [
        "conf_matrix = detected_df.withColumn(\"label\",funcs.when(funcs.col(\"label\").isin(1), \"Anomaly\").otherwise(\"Normal\"))\\\n",
        ".groupBy(\"label\",\"detected\").count()\n",
        "conf_matrix.toPandas().head(10)"
      ],
      "execution_count": null,
      "outputs": [
        {
          "output_type": "execute_result",
          "data": {
            "text/html": [
              "<div>\n",
              "<style scoped>\n",
              "    .dataframe tbody tr th:only-of-type {\n",
              "        vertical-align: middle;\n",
              "    }\n",
              "\n",
              "    .dataframe tbody tr th {\n",
              "        vertical-align: top;\n",
              "    }\n",
              "\n",
              "    .dataframe thead th {\n",
              "        text-align: right;\n",
              "    }\n",
              "</style>\n",
              "<table border=\"1\" class=\"dataframe\">\n",
              "  <thead>\n",
              "    <tr style=\"text-align: right;\">\n",
              "      <th></th>\n",
              "      <th>label</th>\n",
              "      <th>detected</th>\n",
              "      <th>count</th>\n",
              "    </tr>\n",
              "  </thead>\n",
              "  <tbody>\n",
              "    <tr>\n",
              "      <th>0</th>\n",
              "      <td>Anomaly</td>\n",
              "      <td>Normal</td>\n",
              "      <td>18871</td>\n",
              "    </tr>\n",
              "    <tr>\n",
              "      <th>1</th>\n",
              "      <td>Normal</td>\n",
              "      <td>Anomaly</td>\n",
              "      <td>10</td>\n",
              "    </tr>\n",
              "    <tr>\n",
              "      <th>2</th>\n",
              "      <td>Normal</td>\n",
              "      <td>Normal</td>\n",
              "      <td>63451</td>\n",
              "    </tr>\n",
              "  </tbody>\n",
              "</table>\n",
              "</div>"
            ],
            "text/plain": [
              "     label detected  count\n",
              "0  Anomaly   Normal  18871\n",
              "1   Normal  Anomaly     10\n",
              "2   Normal   Normal  63451"
            ]
          },
          "metadata": {
            "tags": []
          },
          "execution_count": 197
        }
      ]
    },
    {
      "cell_type": "markdown",
      "metadata": {
        "id": "mupgCbM69ztk"
      },
      "source": [
        "### 3.7.1 Calculation of Accuracy "
      ]
    },
    {
      "cell_type": "code",
      "metadata": {
        "id": "6d6nwk1m9ztl"
      },
      "source": [
        "all_df = detected_df.count()\n",
        "tptn = conf_matrix.filter(conf_matrix.label == conf_matrix.detected).agg(funcs.sum(\"count\")).select(\"sum(count)\").toPandas().head()\n",
        "tptn = tptn.at[0, 'sum(count)']"
      ],
      "execution_count": null,
      "outputs": []
    },
    {
      "cell_type": "code",
      "metadata": {
        "id": "jt3duXBd9ztn",
        "outputId": "19346a9d-2dc3-4633-d278-54c2d46f61c6",
        "colab": {
          "base_uri": "https://localhost:8080/",
          "height": 34
        }
      },
      "source": [
        "accuracy = tptn / all_df\n",
        "print(\"Accuracy: \", accuracy)"
      ],
      "execution_count": null,
      "outputs": [
        {
          "output_type": "stream",
          "text": [
            "Accuracy:  0.7706723995530292\n"
          ],
          "name": "stdout"
        }
      ]
    },
    {
      "cell_type": "markdown",
      "metadata": {
        "id": "ZVh4Hi4G9ztr"
      },
      "source": [
        "### 3.7.2 Calculation of Recall"
      ]
    },
    {
      "cell_type": "code",
      "metadata": {
        "id": "5HbY2ZOA9zts"
      },
      "source": [
        "tp = conf_matrix.filter((conf_matrix.label == \"Normal\") & ( conf_matrix.detected == \"Normal\")).select(\"count\").toPandas()\n",
        "fn = conf_matrix.filter((conf_matrix.label == \"Anomaly\") & ( conf_matrix.detected == \"Normal\")).select(\"count\").toPandas()\n",
        "tp = tp.at[0, 'count']\n",
        "fn = fn.at[0, 'count']"
      ],
      "execution_count": null,
      "outputs": []
    },
    {
      "cell_type": "code",
      "metadata": {
        "id": "xwNvL95R9ztw",
        "outputId": "b9a96dd2-8c11-4084-abdf-7002eea96595",
        "colab": {
          "base_uri": "https://localhost:8080/",
          "height": 34
        }
      },
      "source": [
        "recall = tp / (tp + fn)\n",
        "print(\"Recall: \", recall)"
      ],
      "execution_count": null,
      "outputs": [
        {
          "output_type": "stream",
          "text": [
            "Recall:  0.7707660163747236\n"
          ],
          "name": "stdout"
        }
      ]
    }
  ]
}